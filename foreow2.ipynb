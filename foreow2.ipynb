{
  "nbformat": 4,
  "nbformat_minor": 0,
  "metadata": {
    "colab": {
      "provenance": [],
      "gpuType": "T4",
      "authorship_tag": "ABX9TyPW+nY319s+PJ8RHc+6mIUR",
      "include_colab_link": true
    },
    "kernelspec": {
      "name": "python3",
      "display_name": "Python 3"
    },
    "language_info": {
      "name": "python"
    },
    "accelerator": "GPU"
  },
  "cells": [
    {
      "cell_type": "markdown",
      "metadata": {
        "id": "view-in-github",
        "colab_type": "text"
      },
      "source": [
        "<a href=\"https://colab.research.google.com/github/isikaykarakus/Foreo_AI_Internship/blob/main/foreow2.ipynb\" target=\"_parent\"><img src=\"https://colab.research.google.com/assets/colab-badge.svg\" alt=\"Open In Colab\"/></a>"
      ]
    },
    {
      "cell_type": "code",
      "source": [
        "from huggingface_hub import notebook_login, whoami\n",
        "notebook_login()          # paste your HF access token when prompted\n",
        "print(\"HF user:\", whoami().get(\"name\"))\n"
      ],
      "metadata": {
        "id": "XkDek97TihI5"
      },
      "execution_count": null,
      "outputs": []
    },
    {
      "cell_type": "code",
      "source": [
        "import os, json, pathlib\n",
        "home = pathlib.Path(\"~\").expanduser()\n",
        "hf_dir = home / \".huggingface\"\n",
        "hf_dir.mkdir(exist_ok=True)\n",
        "# This saves the token into the expected file so future sessions auto-auth\n",
        "with open(hf_dir / \"token\", \"w\") as f:\n",
        "    f.write(os.environ.get(\"HF_TOKEN\",\"\"))\n"
      ],
      "metadata": {
        "id": "0GSFLm3UbQED"
      },
      "execution_count": null,
      "outputs": []
    },
    {
      "cell_type": "code",
      "source": [
        "# -*- coding: utf-8 -*-\n",
        "# Multilingual PoC: EN/ES/PL/TR + Gemma 270M (with safe fallbacks) + style control\n",
        "\n",
        "!pip -q install sentence-transformers faiss-cpu transformers pandas\n",
        "\n",
        "\n",
        "import os\n",
        "import numpy as np\n",
        "import pandas as pd\n",
        "from sentence_transformers import SentenceTransformer\n",
        "from sklearn.metrics.pairwise import cosine_similarity\n",
        "from transformers import AutoTokenizer, AutoModelForCausalLM, pipeline\n",
        "from IPython.display import display\n",
        "\n"
      ],
      "metadata": {
        "id": "uqTqcLapU-nO"
      },
      "execution_count": null,
      "outputs": []
    },
    {
      "cell_type": "code",
      "source": [
        "rows = [\n",
        "    # 1) Gossip / reveal secret\n",
        "    {\"concept_id\":\"gossip\",\"lang\":\"en\",\"phrase\":\"spill the tea\",\"meaning\":\"share gossip or reveal a secret\",\"usage\":\"She spilled the tea about the new launch.\",\"source_url\":\"\"},\n",
        "    {\"concept_id\":\"gossip\",\"lang\":\"es\",\"phrase\":\"soltar la sopa\",\"meaning\":\"contar un secreto o chisme\",\"usage\":\"Al final soltó la sopa sobre la campaña.\",\"source_url\":\"\"},\n",
        "    {\"concept_id\":\"gossip\",\"lang\":\"pl\",\"phrase\":\"puścić farbę\",\"meaning\":\"zdradzić sekret\",\"usage\":\"W końcu puścił farbę o projekcie.\",\"source_url\":\"\"},\n",
        "    {\"concept_id\":\"gossip\",\"lang\":\"tr\",\"phrase\":\"ağzındaki baklayı çıkarmak\",\"meaning\":\"sırrı açıklamak; ağzından kaçırmak\",\"usage\":\"Sonunda ağzındaki baklayı çıkardı.\",\"source_url\":\"\"},\n",
        "\n",
        "    # 2) Daydreaming / head in the clouds\n",
        "    {\"concept_id\":\"daydream\",\"lang\":\"en\",\"phrase\":\"have your head in the clouds\",\"meaning\":\"be distracted or daydreaming\",\"usage\":\"He had his head in the clouds during the briefing.\",\"source_url\":\"\"},\n",
        "    {\"concept_id\":\"daydream\",\"lang\":\"es\",\"phrase\":\"estar en las nubes\",\"meaning\":\"estar distraído; soñar despierto\",\"usage\":\"En clase siempre está en las nubes.\",\"source_url\":\"\"},\n",
        "    {\"concept_id\":\"daydream\",\"lang\":\"pl\",\"phrase\":\"bujać w obłokach\",\"meaning\":\"marzyć; bujać w obłokach\",\"usage\":\"Na spotkaniu tylko bujał w obłokach.\",\"source_url\":\"\"},\n",
        "    {\"concept_id\":\"daydream\",\"lang\":\"tr\",\"phrase\":\"aklı havada olmak\",\"meaning\":\"dalgın olmak; hayallere dalmak\",\"usage\":\"Toplantıda aklı tamamen havadaydı.\",\"source_url\":\"\"},\n",
        "\n",
        "    # 3) Low-key / subtly\n",
        "    {\"concept_id\":\"lowkey\",\"lang\":\"en\",\"phrase\":\"low-key\",\"meaning\":\"subtly; a little; not openly\",\"usage\":\"I’m low-key excited about this collab.\",\"source_url\":\"\"},\n",
        "    {\"concept_id\":\"lowkey\",\"lang\":\"es\",\"phrase\":\"de tranquis\",\"meaning\":\"de forma discreta; sin alardear\",\"usage\":\"Lo celebramos de tranquis con el equipo.\",\"source_url\":\"\"},\n",
        "    {\"concept_id\":\"lowkey\",\"lang\":\"pl\",\"phrase\":\"po cichu\",\"meaning\":\"dyskretnie; po cichu\",\"usage\":\"Zrobili to po cichu, bez ogłoszeń.\",\"source_url\":\"\"},\n",
        "    {\"concept_id\":\"lowkey\",\"lang\":\"tr\",\"phrase\":\"çaktırmadan\",\"meaning\":\"göze batmadan; usulca\",\"usage\":\"Çaktırmadan birkaç değişiklik yaptık.\",\"source_url\":\"\"},\n",
        "\n",
        "    # 4) Mid / average\n",
        "    {\"concept_id\":\"mid\",\"lang\":\"en\",\"phrase\":\"mid\",\"meaning\":\"average; not great\",\"usage\":\"Tbh, the results were mid.\",\"source_url\":\"\"},\n",
        "    {\"concept_id\":\"mid\",\"lang\":\"es\",\"phrase\":\"del montón\",\"meaning\":\"normalito; sin destacar\",\"usage\":\"Sinceramente, el vídeo quedó del montón.\",\"source_url\":\"\"},\n",
        "    {\"concept_id\":\"mid\",\"lang\":\"pl\",\"phrase\":\"takie sobie\",\"meaning\":\"średnie; nic specjalnego\",\"usage\":\"Szczerze, wyniki są takie sobie.\",\"source_url\":\"\"},\n",
        "    {\"concept_id\":\"mid\",\"lang\":\"tr\",\"phrase\":\"orta karar\",\"meaning\":\"ortalama; vasat\",\"usage\":\"Açıkçası performans orta karardı.\",\"source_url\":\"\"},\n",
        "\n",
        "    # 5) Lose it / get very angry\n",
        "    {\"concept_id\":\"loseit\",\"lang\":\"en\",\"phrase\":\"lose it\",\"meaning\":\"become extremely angry or upset\",\"usage\":\"I almost lost it when the app crashed.\",\"source_url\":\"\"},\n",
        "    {\"concept_id\":\"loseit\",\"lang\":\"es\",\"phrase\":\"perder los papeles\",\"meaning\":\"perder el control; enfadarse mucho\",\"usage\":\"Con el retraso, perdió los papeles.\",\"source_url\":\"\"},\n",
        "    {\"concept_id\":\"loseit\",\"lang\":\"pl\",\"phrase\":\"puścić nerwy\",\"meaning\":\"stracić panowanie nad sobą\",\"usage\":\"Prawie puściły mi nerwy przy tej awarii.\",\"source_url\":\"\"},\n",
        "    {\"concept_id\":\"loseit\",\"lang\":\"tr\",\"phrase\":\"kafayı yemek\",\"meaning\":\"çok sinirlenmek; kendini kaybetmek\",\"usage\":\"Uygulama çökünce az kalsın kafayı yiyordum.\",\"source_url\":\"\"},\n",
        "\n",
        "    # 6) Get hyped / fired up\n",
        "    {\"concept_id\":\"hype\",\"lang\":\"en\",\"phrase\":\"get hyped\",\"meaning\":\"become very excited or fired up\",\"usage\":\"The crowd got hyped before the drop.\",\"source_url\":\"\"},\n",
        "    {\"concept_id\":\"hype\",\"lang\":\"es\",\"phrase\":\"venirse arriba\",\"meaning\":\"animarse mucho; venirse arriba\",\"usage\":\"Con el tema nuevo todos se vinieron arriba.\",\"source_url\":\"\"},\n",
        "    {\"concept_id\":\"hype\",\"lang\":\"pl\",\"phrase\":\"nakręcić się\",\"meaning\":\"mocno się nakręcić; podekscytować\",\"usage\":\"Publika szybko się nakręciła.\",\"source_url\":\"\"},\n",
        "    {\"concept_id\":\"hype\",\"lang\":\"tr\",\"phrase\":\"gaza gelmek\",\"meaning\":\"coşmak; hemen motive olmak\",\"usage\":\"Kalabalık bir anda gaza geldi.\",\"source_url\":\"\"},\n",
        "\n",
        "    # 7) Ghosting\n",
        "    {\"concept_id\":\"ghosting\",\"lang\":\"en\",\"phrase\":\"ghosting\",\"meaning\":\"suddenly cutting off contact\",\"usage\":\"After two dates, it was pure ghosting.\",\"source_url\":\"\"},\n",
        "    {\"concept_id\":\"ghosting\",\"lang\":\"es\",\"phrase\":\"hacer ghosting\",\"meaning\":\"dejar de responder sin explicación\",\"usage\":\"Después del mensaje, me hizo ghosting.\",\"source_url\":\"\"},\n",
        "    {\"concept_id\":\"ghosting\",\"lang\":\"pl\",\"phrase\":\"zniknąć bez słowa\",\"meaning\":\"przestać się odzywać; zniknąć\",\"usage\":\"Po rozmowie zniknął bez słowa.\",\"source_url\":\"\"},\n",
        "    {\"concept_id\":\"ghosting\",\"lang\":\"tr\",\"phrase\":\"ghostlamak / ortadan kaybolmak\",\"meaning\":\"hiçbir açıklama yapmadan iletişimi kesmek\",\"usage\":\"İki görüşmeden sonra resmen ghostladı.\",\"source_url\":\"\"},\n",
        "\n",
        "    # 8) Not in the mood / off today\n",
        "    {\"concept_id\":\"offday\",\"lang\":\"en\",\"phrase\":\"not in the mood\",\"meaning\":\"feeling off; not up for it\",\"usage\":\"I’m not in the mood for calls today.\",\"source_url\":\"\"},\n",
        "    {\"concept_id\":\"offday\",\"lang\":\"es\",\"phrase\":\"no tener el día\",\"meaning\":\"estar regular; no estar de humor\",\"usage\":\"Hoy no tengo el día para reuniones.\",\"source_url\":\"\"},\n",
        "    {\"concept_id\":\"offday\",\"lang\":\"pl\",\"phrase\":\"nie w sosie\",\"meaning\":\"mieć zły humor; być nie w formie\",\"usage\":\"Jestem dziś nie w sosie.\",\"source_url\":\"\"},\n",
        "    {\"concept_id\":\"offday\",\"lang\":\"tr\",\"phrase\":\"keyfi yok\",\"meaning\":\"modu düşük; canı istemiyor\",\"usage\":\"Bugün pek keyfim yok toplantılara.\",\"source_url\":\"\"},\n",
        "]\n",
        "df = pd.DataFrame(rows)\n",
        "df[\"blob\"] = df[\"phrase\"] + \" — \" + df[\"meaning\"] + \" — \" + df[\"usage\"]\n",
        "display(df.head())\n"
      ],
      "metadata": {
        "id": "36z4Qx8eVASD"
      },
      "execution_count": null,
      "outputs": []
    },
    {
      "cell_type": "code",
      "source": [
        "# ---------------------------\n",
        "# 3) Embeddings (multilingual)\n",
        "# ---------------------------\n",
        "EMB_ID = \"sentence-transformers/paraphrase-multilingual-MiniLM-L12-v2\"\n",
        "emb_model = SentenceTransformer(EMB_ID)\n",
        "embeddings = emb_model.encode(df[\"blob\"].tolist(), normalize_embeddings=True)\n"
      ],
      "metadata": {
        "id": "Y43JDp8zVCD_"
      },
      "execution_count": null,
      "outputs": []
    },
    {
      "cell_type": "code",
      "source": [
        "# ---------------------------\n",
        "# 4) Generator (Gemma → FLAN)\n",
        "# ---------------------------\n",
        "CANDIDATES = [\"google/gemma-3-270m\", \"google/flan-t5-small\"]\n",
        "loaded_id, gen = None, None\n",
        "for mid in CANDIDATES:\n",
        "    try:\n",
        "        tok = AutoTokenizer.from_pretrained(mid)\n",
        "        if \"t5\" in mid.lower():\n",
        "            gen = pipeline(\"text2text-generation\", model=mid, tokenizer=tok)\n",
        "        else:\n",
        "            lm = AutoModelForCausalLM.from_pretrained(mid)\n",
        "            gen = pipeline(\"text-generation\", model=lm, tokenizer=tok)\n",
        "        loaded_id = mid\n",
        "        break\n",
        "    except Exception as e:\n",
        "        print(f\"[warn] Could not load {mid}: {e}\")\n",
        "print(f\"[info] Loaded generator: {loaded_id}\")\n"
      ],
      "metadata": {
        "id": "O8cSM34iVD5c"
      },
      "execution_count": null,
      "outputs": []
    },
    {
      "cell_type": "code",
      "source": [
        "# ---------------------------\n",
        "# 5) Retrieval + explanation\n",
        "# ---------------------------\n",
        "STYLES = {\n",
        "    \"learner\": \"Explain simply for language learners. Avoid slang in the explanation and include ONE short example.\",\n",
        "    \"casual\":  \"Use a casual, friendly tone and keep it short.\",\n",
        "    \"formal\":  \"Use a clear, formal, brand-safe tone suitable for documentation.\"\n",
        "}\n",
        "\n",
        "def search(query: str, k: int = 3) -> pd.DataFrame:\n",
        "    qv = emb_model.encode([query], normalize_embeddings=True)\n",
        "    sims = cosine_similarity(qv.reshape(1, -1), embeddings)[0]\n",
        "    top_idx = np.argsort(sims)[::-1][:k]\n",
        "    hits = df.iloc[top_idx].copy()\n",
        "    hits[\"score\"] = sims[top_idx]\n",
        "    return hits[[\"lang\",\"phrase\",\"meaning\",\"usage\",\"source_url\",\"score\"]]\n",
        "\n",
        "def _gen_text(prompt: str) -> str:\n",
        "    if \"t5\" in (loaded_id or \"\").lower():\n",
        "        return gen(prompt, max_new_tokens=140, do_sample=False)[0][\"generated_text\"]\n",
        "    else:\n",
        "        return gen(prompt, max_new_tokens=140, do_sample=False)[0][\"generated_text\"]\n",
        "\n",
        "def explain(query: str, style: str = \"learner\", k: int = 3):\n",
        "    hits = search(query, k)\n",
        "    context = \"\\n\".join([f\"- [{r.lang}] {r.phrase}: {r.meaning} (e.g., {r.usage})\" for _, r in hits.iterrows()])\n",
        "    style_instr = STYLES.get(style, STYLES[\"learner\"])\n",
        "    prompt = (\n",
        "        f\"Explain the expression '{query}'. {style_instr}\\n\"\n",
        "        f\"Use the retrieved examples below as context and mention the language code in examples.\\n\"\n",
        "        f\"Retrieved examples:\\n{context}\\n\\nAnswer:\"\n",
        "    )\n",
        "    answer = _gen_text(prompt)\n",
        "    return hits, answer\n",
        "\n",
        "def aligned_equivalents_from_top_hit(hits: pd.DataFrame) -> pd.DataFrame:\n",
        "    if hits.empty:\n",
        "        return pd.DataFrame()\n",
        "    top_phrase, top_lang = hits.iloc[0][\"phrase\"], hits.iloc[0][\"lang\"]\n",
        "    match = df[(df[\"phrase\"] == top_phrase) & (df[\"lang\"] == top_lang)]\n",
        "    if match.empty:\n",
        "        return pd.DataFrame()\n",
        "    cid = match.iloc[0][\"concept_id\"]\n",
        "    return df[df[\"concept_id\"] == cid][[\"lang\",\"phrase\",\"meaning\",\"usage\",\"source_url\"]]\n"
      ],
      "metadata": {
        "id": "-LdD7q7CVFxd"
      },
      "execution_count": null,
      "outputs": []
    },
    {
      "cell_type": "code",
      "source": [
        "# ---------------------------\n",
        "# 6) Demo — one query per lang\n",
        "# ---------------------------\n",
        "queries = [\"spill the tea\", \"estar en las nubes\", \"bujać w obłokach\", \"kafayı yemek\"]\n",
        "for q in queries:\n",
        "    print(\"\\n==============================\")\n",
        "    print(\"QUERY:\", q)\n",
        "    hits, ans = explain(q, style=\"learner\", k=3)\n",
        "    display(hits)\n",
        "    exact = aligned_equivalents_from_top_hit(hits)\n",
        "    if not exact.empty:\n",
        "        print(\"\\nAligned equivalents (exact cross-language matches):\")\n",
        "        display(exact)\n",
        "    print(\"\\n--- EXPLANATION ---\\n\", ans)\n",
        "\n",
        "# Style customisation example\n",
        "_, ans_casual = explain(\"spill the tea\", style=\"casual\", k=3)\n",
        "print(\"\\n=== STYLE: CASUAL ===\\n\", ans_casual)\n",
        "_, ans_formal = explain(\"spill the tea\", style=\"formal\", k=3)\n",
        "print(\"\\n=== STYLE: FORMAL ===\\n\", ans_formal)"
      ],
      "metadata": {
        "id": "JHqxYR_rUsxN"
      },
      "execution_count": null,
      "outputs": []
    },
    {
      "cell_type": "code",
      "source": [],
      "metadata": {
        "id": "RfIhAPHzVGXy"
      },
      "execution_count": null,
      "outputs": []
    }
  ]
}