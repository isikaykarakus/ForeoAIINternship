{
  "nbformat": 4,
  "nbformat_minor": 0,
  "metadata": {
    "colab": {
      "provenance": [],
      "gpuType": "T4",
      "authorship_tag": "ABX9TyMI4jmbT0yLI2e9PAs2hgjn",
      "include_colab_link": true
    },
    "kernelspec": {
      "name": "python3",
      "display_name": "Python 3"
    },
    "language_info": {
      "name": "python"
    },
    "accelerator": "GPU"
  },
  "cells": [
    {
      "cell_type": "markdown",
      "metadata": {
        "id": "view-in-github",
        "colab_type": "text"
      },
      "source": [
        "<a href=\"https://colab.research.google.com/github/isikaykarakus/Foreo_AI_Internship/blob/main/Foreow1.ipynb\" target=\"_parent\"><img src=\"https://colab.research.google.com/assets/colab-badge.svg\" alt=\"Open In Colab\"/></a>"
      ]
    },
    {
      "cell_type": "code",
      "execution_count": null,
      "metadata": {
        "id": "kpUZCCVIWZ_B"
      },
      "outputs": [],
      "source": [
        "!pip -q install sentence-transformers faiss-cpu transformers pandas\n",
        "\n",
        "import pandas as pd\n",
        "from sentence_transformers import SentenceTransformer\n",
        "import faiss\n",
        "from transformers import pipeline"
      ]
    },
    {
      "cell_type": "markdown",
      "source": [
        "# **Tiny demo dataset (10 rows)**"
      ],
      "metadata": {
        "id": "fSLm-MGUWoDj"
      }
    },
    {
      "cell_type": "code",
      "source": [
        "data = [\n",
        "    {\"phrase\":\"spill the tea\",\"meaning\":\"share the gossip or secret\",\"usage\":\"She spilled the tea about the new launch.\",\"source_url\":\"https://example.com/urban/spill_the_tea\"},\n",
        "    {\"phrase\":\"low-key\",\"meaning\":\"subtly; not openly; a little bit\",\"usage\":\"I’m low-key excited about this collab.\",\"source_url\":\"https://example.com/urban/low_key\"},\n",
        "    {\"phrase\":\"ghosting\",\"meaning\":\"suddenly cutting off all communication\",\"usage\":\"He stopped replying—total ghosting.\",\"source_url\":\"https://example.com/urban/ghosting\"},\n",
        "    {\"phrase\":\"stan\",\"meaning\":\"an overzealous or obsessive fan\",\"usage\":\"I stan that skincare brand.\",\"source_url\":\"https://example.com/urban/stan\"},\n",
        "    {\"phrase\":\"cap\",\"meaning\":\"a lie; not true\",\"usage\":\"They said the product is magic—sounds like cap.\",\"source_url\":\"https://example.com/urban/cap\"},\n",
        "    {\"phrase\":\"flex\",\"meaning\":\"show off; boast\",\"usage\":\"She flexed her skincare routine on IG.\",\"source_url\":\"https://example.com/urban/flex\"},\n",
        "    {\"phrase\":\"ratio\",\"meaning\":\"a reply gets more likes than the original post (implies disagreement)\",\"usage\":\"Their tweet got ratioed instantly.\",\"source_url\":\"https://example.com/urban/ratio\"},\n",
        "    {\"phrase\":\"simp\",\"meaning\":\"someone who is overly attentive for affection/attention\",\"usage\":\"Don’t simp for clout.\",\"source_url\":\"https://example.com/urban/simp\"},\n",
        "    {\"phrase\":\"yeet\",\"meaning\":\"to throw with force; also an exclamation of excitement\",\"usage\":\"Yeet that empty bottle in the bin!\",\"source_url\":\"https://example.com/urban/yeet\"},\n",
        "    {\"phrase\":\"mid\",\"meaning\":\"average; not great\",\"usage\":\"The results were mid tbh.\",\"source_url\":\"https://example.com/urban/mid\"},\n",
        "]\n",
        "df = pd.DataFrame(data)\n",
        "df\n"
      ],
      "metadata": {
        "id": "GVacA4rYWir3"
      },
      "execution_count": null,
      "outputs": []
    },
    {
      "cell_type": "code",
      "source": [
        "# minimal normalisation\n",
        "df[\"phrase_clean\"] = df[\"phrase\"].str.lower().str.strip()\n",
        "\n",
        "# embed corpus text (phrase + meaning + usage)\n",
        "corpus_texts = (df[\"phrase_clean\"] + \" — \" + df[\"meaning\"] + \" — \" + df[\"usage\"]).tolist()\n",
        "emb_model = SentenceTransformer(\"sentence-transformers/all-MiniLM-L6-v2\")\n",
        "embeddings = emb_model.encode(corpus_texts, normalize_embeddings=True)\n",
        "\n",
        "# FAISS index (cosine via inner product on normalised vectors)\n",
        "index = faiss.IndexFlatIP(embeddings.shape[1])\n",
        "index.add(embeddings)\n"
      ],
      "metadata": {
        "id": "ylYV6rw3WxyI"
      },
      "execution_count": null,
      "outputs": []
    },
    {
      "cell_type": "code",
      "source": [
        "# tiny generator\n",
        "gen = pipeline(\"text2text-generation\", model=\"google/flan-t5-small\", max_new_tokens=120)\n",
        "\n",
        "def search(query, k=3):\n",
        "    q_emb = emb_model.encode([query], normalize_embeddings=True)\n",
        "    D, I = index.search(q_emb, k)\n",
        "    hits = df.iloc[I[0]].copy()\n",
        "    hits[\"score\"] = [float(s) for s in D[0]]\n",
        "    return hits\n",
        "\n",
        "def explain(query, k=3):\n",
        "    hits = search(query, k)\n",
        "    context = \"\\n\".join([f\"- {r.phrase}: {r.meaning} (e.g., {r.usage})\" for _, r in hits.iterrows()])\n",
        "    prompt = (\n",
        "        f\"Explain the slang '{query}' in clear, simple English. \"\n",
        "        f\"Use the examples below for context. Add a short cultural note if helpful.\\n\\n{context}\\n\\nAnswer:\"\n",
        "    )\n",
        "    out = gen(prompt)[0][\"generated_text\"]\n",
        "    return hits[[\"phrase\",\"meaning\",\"usage\",\"source_url\",\"score\"]], out\n",
        "\n",
        "table, answer = explain(\"spill the tea\", k=3)\n",
        "display(table)\n",
        "print(\"\\n--- EXPLANATION ---\\n\", answer)\n"
      ],
      "metadata": {
        "id": "RTIbQ6U9Wz_b"
      },
      "execution_count": null,
      "outputs": []
    },
    {
      "cell_type": "code",
      "source": [
        "table, answer = explain(\"low-key\", k=3)\n",
        "display(table)\n",
        "print(\"\\n--- EXPLANATION ---\\n\", answer)\n"
      ],
      "metadata": {
        "id": "MwSd9BZEW3Fk"
      },
      "execution_count": null,
      "outputs": []
    },
    {
      "cell_type": "code",
      "source": [],
      "metadata": {
        "id": "C-vQLbekW8ai"
      },
      "execution_count": null,
      "outputs": []
    }
  ]
}